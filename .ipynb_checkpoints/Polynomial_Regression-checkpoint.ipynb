{
 "cells": [
  {
   "cell_type": "code",
   "execution_count": 1,
   "id": "a046d71c-48df-455a-898d-fdfce16a7c87",
   "metadata": {},
   "outputs": [],
   "source": [
    "import numpy as np\n",
    "import pandas as pd\n",
    "import matplotlib.pyplot as plt\n",
    "import seaborn as sns"
   ]
  },
  {
   "cell_type": "code",
   "execution_count": 2,
   "id": "efa61413-a7d0-4a93-8927-17cf2e4db64e",
   "metadata": {},
   "outputs": [],
   "source": [
    "np.random.seed(1)"
   ]
  },
  {
   "cell_type": "code",
   "execution_count": 3,
   "id": "6fc4063e-9c09-417f-8d93-b95dc816c8f8",
   "metadata": {},
   "outputs": [
    {
     "data": {
      "text/plain": [
       "array([[8.34044009e-01],\n",
       "       [1.44064899e+00],\n",
       "       [2.28749635e-04],\n",
       "       [6.04665145e-01],\n",
       "       [2.93511782e-01],\n",
       "       [1.84677190e-01],\n",
       "       [3.72520423e-01],\n",
       "       [6.91121454e-01],\n",
       "       [7.93534948e-01],\n",
       "       [1.07763347e+00],\n",
       "       [8.38389029e-01],\n",
       "       [1.37043900e+00],\n",
       "       [4.08904499e-01],\n",
       "       [1.75623487e+00],\n",
       "       [5.47751864e-02],\n",
       "       [1.34093502e+00],\n",
       "       [8.34609605e-01],\n",
       "       [1.11737966e+00],\n",
       "       [2.80773877e-01],\n",
       "       [3.96202978e-01],\n",
       "       [1.60148914e+00],\n",
       "       [1.93652315e+00],\n",
       "       [6.26848356e-01],\n",
       "       [1.38464523e+00],\n",
       "       [1.75277830e+00],\n",
       "       [1.78921333e+00],\n",
       "       [1.70088423e-01],\n",
       "       [7.81095665e-02],\n",
       "       [3.39660839e-01],\n",
       "       [1.75628501e+00],\n",
       "       [1.96693668e-01],\n",
       "       [8.42215250e-01],\n",
       "       [1.91577906e+00],\n",
       "       [1.06633057e+00],\n",
       "       [1.38375423e+00],\n",
       "       [6.31031262e-01],\n",
       "       [1.37300186e+00],\n",
       "       [1.66925134e+00],\n",
       "       [3.65765547e-02],\n",
       "       [1.50028863e+00],\n",
       "       [1.97772218e+00],\n",
       "       [1.49633131e+00],\n",
       "       [5.60887984e-01],\n",
       "       [1.57855866e+00],\n",
       "       [2.06452013e-01],\n",
       "       [8.95787052e-01],\n",
       "       [1.81719101e+00],\n",
       "       [5.87228297e-01],\n",
       "       [5.75550677e-01],\n",
       "       [2.60057144e-01],\n",
       "       [3.87339157e-02],\n",
       "       [1.35767107e+00],\n",
       "       [4.23256232e-01],\n",
       "       [5.31093319e-01],\n",
       "       [9.83146319e-01],\n",
       "       [1.06725090e-01],\n",
       "       [1.14823521e+00],\n",
       "       [2.93457150e-01],\n",
       "       [1.17861107e+00],\n",
       "       [1.39951672e+00],\n",
       "       [2.04668858e-01],\n",
       "       [8.28111976e-01],\n",
       "       [1.38880032e+00],\n",
       "       [8.28358539e-01],\n",
       "       [9.99069179e-02],\n",
       "       [1.07179281e+00],\n",
       "       [1.32758929e+00],\n",
       "       [1.02977822e+00],\n",
       "       [1.88918951e+00],\n",
       "       [1.17311008e+00],\n",
       "       [1.80680383e+00],\n",
       "       [2.74949408e-01],\n",
       "       [2.78552695e-01],\n",
       "       [1.61478258e+00],\n",
       "       [7.95353674e-01],\n",
       "       [3.30708394e-01],\n",
       "       [1.85501716e+00],\n",
       "       [6.95531719e-01],\n",
       "       [1.50162421e+00],\n",
       "       [1.45199597e+00],\n",
       "       [1.76661218e+00],\n",
       "       [1.24734441e+00],\n",
       "       [1.50188487e+00],\n",
       "       [6.97796684e-01],\n",
       "       [5.39855784e-01],\n",
       "       [1.79177244e+00],\n",
       "       [8.56182380e-01],\n",
       "       [1.92968009e+00],\n",
       "       [1.32688300e+00],\n",
       "       [1.24339144e+00],\n",
       "       [2.29491946e-01],\n",
       "       [1.89897852e+00],\n",
       "       [8.99824267e-01],\n",
       "       [1.15677923e+00],\n",
       "       [8.16273606e-01],\n",
       "       [4.74053960e-01],\n",
       "       [1.80675904e+00],\n",
       "       [1.14735897e+00],\n",
       "       [5.74065406e-03],\n",
       "       [1.23428983e+00]])"
      ]
     },
     "execution_count": 3,
     "metadata": {},
     "output_type": "execute_result"
    }
   ],
   "source": [
    "X =2*np.random.rand(100,1)\n",
    "X"
   ]
  },
  {
   "cell_type": "code",
   "execution_count": 7,
   "id": "18dbc3b5-92d3-44d5-971a-913776d82fd8",
   "metadata": {},
   "outputs": [
    {
     "data": {
      "text/plain": [
       "array([[ 8.35743484],\n",
       "       [12.31011286],\n",
       "       [ 4.68909958],\n",
       "       [ 6.93191976],\n",
       "       [ 5.17073053],\n",
       "       [ 5.07207009],\n",
       "       [ 5.67089052],\n",
       "       [ 7.01487762],\n",
       "       [ 7.91766329],\n",
       "       [ 9.28711108],\n",
       "       [ 8.48581689],\n",
       "       [11.83810711],\n",
       "       [ 5.73463613],\n",
       "       [14.00613731],\n",
       "       [ 4.36178877],\n",
       "       [11.21954932],\n",
       "       [ 8.27727427],\n",
       "       [ 9.43313936],\n",
       "       [ 5.20860615],\n",
       "       [ 6.27574601],\n",
       "       [13.06746732],\n",
       "       [16.0514374 ],\n",
       "       [ 6.7036195 ],\n",
       "       [11.13176658],\n",
       "       [14.38253961],\n",
       "       [14.64670746],\n",
       "       [ 4.70633202],\n",
       "       [ 4.86528659],\n",
       "       [ 5.73604686],\n",
       "       [14.54979791],\n",
       "       [ 4.79265914],\n",
       "       [ 8.34216336],\n",
       "       [15.47470043],\n",
       "       [ 9.42393486],\n",
       "       [11.80872236],\n",
       "       [ 6.51272489],\n",
       "       [11.27106917],\n",
       "       [14.06027648],\n",
       "       [ 4.95644604],\n",
       "       [12.41560544],\n",
       "       [16.66685233],\n",
       "       [12.797311  ],\n",
       "       [ 6.98096395],\n",
       "       [13.32756256],\n",
       "       [ 4.78203309],\n",
       "       [ 8.54231715],\n",
       "       [15.10836474],\n",
       "       [ 6.88918131],\n",
       "       [ 7.02315517],\n",
       "       [ 4.91618723],\n",
       "       [ 4.88869096],\n",
       "       [11.56964788],\n",
       "       [ 5.79818585],\n",
       "       [ 6.27343942],\n",
       "       [ 9.0316073 ],\n",
       "       [ 4.6825581 ],\n",
       "       [10.21896046],\n",
       "       [ 5.45569333],\n",
       "       [10.40226873],\n",
       "       [12.12699252],\n",
       "       [ 4.97708892],\n",
       "       [ 7.65599592],\n",
       "       [11.96085886],\n",
       "       [ 8.0559018 ],\n",
       "       [ 5.28943321],\n",
       "       [ 9.57509258],\n",
       "       [11.62042088],\n",
       "       [ 9.22607026],\n",
       "       [15.54754999],\n",
       "       [ 9.71903904],\n",
       "       [14.67292679],\n",
       "       [ 4.96446256],\n",
       "       [ 5.11244067],\n",
       "       [13.50126908],\n",
       "       [ 7.36534191],\n",
       "       [ 5.52272034],\n",
       "       [15.58903074],\n",
       "       [ 7.50491944],\n",
       "       [12.57812765],\n",
       "       [11.70706316],\n",
       "       [14.42311873],\n",
       "       [10.65741278],\n",
       "       [12.87889355],\n",
       "       [ 7.0276766 ],\n",
       "       [ 6.30446665],\n",
       "       [14.45316309],\n",
       "       [ 8.41829195],\n",
       "       [15.83151351],\n",
       "       [10.67850615],\n",
       "       [10.55772397],\n",
       "       [ 4.97943583],\n",
       "       [15.90471891],\n",
       "       [ 8.21132975],\n",
       "       [ 9.50515097],\n",
       "       [ 8.04170716],\n",
       "       [ 6.60309305],\n",
       "       [14.6978606 ],\n",
       "       [10.16658415],\n",
       "       [ 4.52841287],\n",
       "       [10.52902835]])"
      ]
     },
     "execution_count": 7,
     "metadata": {},
     "output_type": "execute_result"
    }
   ],
   "source": [
    "y =4+3*X +1.5*X**2+np.random.rand(100,1)\n",
    "y"
   ]
  },
  {
   "cell_type": "code",
   "execution_count": 8,
   "id": "79cbd657-7e3c-4f9c-9972-4fd4dd3246fe",
   "metadata": {},
   "outputs": [
    {
     "data": {
      "text/plain": [
       "((71, 1), (29, 1), (71, 1), (29, 1))"
      ]
     },
     "execution_count": 8,
     "metadata": {},
     "output_type": "execute_result"
    }
   ],
   "source": [
    "from sklearn.model_selection import train_test_split\n",
    "X_train ,X_test ,y_train ,y_test =train_test_split(X ,y,test_size=0.28,random_state=12)\n",
    "X_train.shape ,X_test.shape ,y_train.shape ,y_test.shape"
   ]
  },
  {
   "cell_type": "code",
   "execution_count": 9,
   "id": "0c98ec63-6dcb-46b5-a083-5c64780caf9d",
   "metadata": {},
   "outputs": [],
   "source": [
    "from sklearn.preprocessing import PolynomialFeatures\n",
    "Poly_feat = PolynomialFeatures(degree=2 ,include_bias=False)"
   ]
  },
  {
   "cell_type": "code",
   "execution_count": 10,
   "id": "ce76cf1e-6e73-4e65-9ebd-50a830de54f8",
   "metadata": {},
   "outputs": [
    {
     "data": {
      "text/html": [
       "<style>#sk-container-id-1 {color: black;background-color: white;}#sk-container-id-1 pre{padding: 0;}#sk-container-id-1 div.sk-toggleable {background-color: white;}#sk-container-id-1 label.sk-toggleable__label {cursor: pointer;display: block;width: 100%;margin-bottom: 0;padding: 0.3em;box-sizing: border-box;text-align: center;}#sk-container-id-1 label.sk-toggleable__label-arrow:before {content: \"▸\";float: left;margin-right: 0.25em;color: #696969;}#sk-container-id-1 label.sk-toggleable__label-arrow:hover:before {color: black;}#sk-container-id-1 div.sk-estimator:hover label.sk-toggleable__label-arrow:before {color: black;}#sk-container-id-1 div.sk-toggleable__content {max-height: 0;max-width: 0;overflow: hidden;text-align: left;background-color: #f0f8ff;}#sk-container-id-1 div.sk-toggleable__content pre {margin: 0.2em;color: black;border-radius: 0.25em;background-color: #f0f8ff;}#sk-container-id-1 input.sk-toggleable__control:checked~div.sk-toggleable__content {max-height: 200px;max-width: 100%;overflow: auto;}#sk-container-id-1 input.sk-toggleable__control:checked~label.sk-toggleable__label-arrow:before {content: \"▾\";}#sk-container-id-1 div.sk-estimator input.sk-toggleable__control:checked~label.sk-toggleable__label {background-color: #d4ebff;}#sk-container-id-1 div.sk-label input.sk-toggleable__control:checked~label.sk-toggleable__label {background-color: #d4ebff;}#sk-container-id-1 input.sk-hidden--visually {border: 0;clip: rect(1px 1px 1px 1px);clip: rect(1px, 1px, 1px, 1px);height: 1px;margin: -1px;overflow: hidden;padding: 0;position: absolute;width: 1px;}#sk-container-id-1 div.sk-estimator {font-family: monospace;background-color: #f0f8ff;border: 1px dotted black;border-radius: 0.25em;box-sizing: border-box;margin-bottom: 0.5em;}#sk-container-id-1 div.sk-estimator:hover {background-color: #d4ebff;}#sk-container-id-1 div.sk-parallel-item::after {content: \"\";width: 100%;border-bottom: 1px solid gray;flex-grow: 1;}#sk-container-id-1 div.sk-label:hover label.sk-toggleable__label {background-color: #d4ebff;}#sk-container-id-1 div.sk-serial::before {content: \"\";position: absolute;border-left: 1px solid gray;box-sizing: border-box;top: 0;bottom: 0;left: 50%;z-index: 0;}#sk-container-id-1 div.sk-serial {display: flex;flex-direction: column;align-items: center;background-color: white;padding-right: 0.2em;padding-left: 0.2em;position: relative;}#sk-container-id-1 div.sk-item {position: relative;z-index: 1;}#sk-container-id-1 div.sk-parallel {display: flex;align-items: stretch;justify-content: center;background-color: white;position: relative;}#sk-container-id-1 div.sk-item::before, #sk-container-id-1 div.sk-parallel-item::before {content: \"\";position: absolute;border-left: 1px solid gray;box-sizing: border-box;top: 0;bottom: 0;left: 50%;z-index: -1;}#sk-container-id-1 div.sk-parallel-item {display: flex;flex-direction: column;z-index: 1;position: relative;background-color: white;}#sk-container-id-1 div.sk-parallel-item:first-child::after {align-self: flex-end;width: 50%;}#sk-container-id-1 div.sk-parallel-item:last-child::after {align-self: flex-start;width: 50%;}#sk-container-id-1 div.sk-parallel-item:only-child::after {width: 0;}#sk-container-id-1 div.sk-dashed-wrapped {border: 1px dashed gray;margin: 0 0.4em 0.5em 0.4em;box-sizing: border-box;padding-bottom: 0.4em;background-color: white;}#sk-container-id-1 div.sk-label label {font-family: monospace;font-weight: bold;display: inline-block;line-height: 1.2em;}#sk-container-id-1 div.sk-label-container {text-align: center;}#sk-container-id-1 div.sk-container {/* jupyter's `normalize.less` sets `[hidden] { display: none; }` but bootstrap.min.css set `[hidden] { display: none !important; }` so we also need the `!important` here to be able to override the default hidden behavior on the sphinx rendered scikit-learn.org. See: https://github.com/scikit-learn/scikit-learn/issues/21755 */display: inline-block !important;position: relative;}#sk-container-id-1 div.sk-text-repr-fallback {display: none;}</style><div id=\"sk-container-id-1\" class=\"sk-top-container\"><div class=\"sk-text-repr-fallback\"><pre>PolynomialFeatures(include_bias=False)</pre><b>In a Jupyter environment, please rerun this cell to show the HTML representation or trust the notebook. <br />On GitHub, the HTML representation is unable to render, please try loading this page with nbviewer.org.</b></div><div class=\"sk-container\" hidden><div class=\"sk-item\"><div class=\"sk-estimator sk-toggleable\"><input class=\"sk-toggleable__control sk-hidden--visually\" id=\"sk-estimator-id-1\" type=\"checkbox\" checked><label for=\"sk-estimator-id-1\" class=\"sk-toggleable__label sk-toggleable__label-arrow\">PolynomialFeatures</label><div class=\"sk-toggleable__content\"><pre>PolynomialFeatures(include_bias=False)</pre></div></div></div></div></div>"
      ],
      "text/plain": [
       "PolynomialFeatures(include_bias=False)"
      ]
     },
     "execution_count": 10,
     "metadata": {},
     "output_type": "execute_result"
    }
   ],
   "source": [
    "Poly_feat"
   ]
  },
  {
   "cell_type": "code",
   "execution_count": 11,
   "id": "77cb7833-f1a2-415e-a6c7-0ac00e113bfd",
   "metadata": {},
   "outputs": [
    {
     "data": {
      "text/plain": [
       "array([[1.89897852e+00, 3.60611941e+00],\n",
       "       [1.24734441e+00, 1.55586809e+00],\n",
       "       [1.07179281e+00, 1.14873983e+00],\n",
       "       [5.39855784e-01, 2.91444267e-01],\n",
       "       [2.29491946e-01, 5.26665532e-02],\n",
       "       [1.32688300e+00, 1.76061848e+00],\n",
       "       [1.75628501e+00, 3.08453703e+00],\n",
       "       [3.65765547e-02, 1.33784435e-03],\n",
       "       [6.95531719e-01, 4.83764373e-01],\n",
       "       [1.97772218e+00, 3.91138501e+00],\n",
       "       [1.50162421e+00, 2.25487526e+00],\n",
       "       [1.60148914e+00, 2.56476746e+00],\n",
       "       [8.38389029e-01, 7.02896164e-01],\n",
       "       [3.39660839e-01, 1.15369486e-01],\n",
       "       [1.80675904e+00, 3.26437823e+00],\n",
       "       [4.74053960e-01, 2.24727157e-01],\n",
       "       [2.74949408e-01, 7.55971771e-02],\n",
       "       [1.61478258e+00, 2.60752277e+00],\n",
       "       [2.78552695e-01, 7.75916036e-02],\n",
       "       [5.60887984e-01, 3.14595331e-01],\n",
       "       [1.45199597e+00, 2.10829230e+00],\n",
       "       [5.87228297e-01, 3.44837073e-01],\n",
       "       [1.32758929e+00, 1.76249332e+00],\n",
       "       [9.99069179e-02, 9.98139224e-03],\n",
       "       [8.28111976e-01, 6.85769444e-01],\n",
       "       [1.35767107e+00, 1.84327072e+00],\n",
       "       [5.31093319e-01, 2.82060113e-01],\n",
       "       [1.37043900e+00, 1.87810305e+00],\n",
       "       [1.66925134e+00, 2.78640005e+00],\n",
       "       [2.06452013e-01, 4.26224337e-02],\n",
       "       [1.57855866e+00, 2.49184743e+00],\n",
       "       [1.44064899e+00, 2.07546950e+00],\n",
       "       [1.79177244e+00, 3.21044846e+00],\n",
       "       [1.17311008e+00, 1.37618726e+00],\n",
       "       [2.93511782e-01, 8.61491660e-02],\n",
       "       [1.14823521e+00, 1.31844410e+00],\n",
       "       [1.78921333e+00, 3.20128433e+00],\n",
       "       [8.16273606e-01, 6.66302599e-01],\n",
       "       [1.39951672e+00, 1.95864705e+00],\n",
       "       [5.74065406e-03, 3.29551091e-05],\n",
       "       [1.91577906e+00, 3.67020941e+00],\n",
       "       [1.50188487e+00, 2.25565816e+00],\n",
       "       [8.95787052e-01, 8.02434443e-01],\n",
       "       [1.14735897e+00, 1.31643261e+00],\n",
       "       [3.87339157e-02, 1.50031623e-03],\n",
       "       [2.80773877e-01, 7.88339701e-02],\n",
       "       [8.28358539e-01, 6.86177869e-01],\n",
       "       [1.96693668e-01, 3.86883989e-02],\n",
       "       [1.06633057e+00, 1.13706088e+00],\n",
       "       [1.76661218e+00, 3.12091860e+00],\n",
       "       [1.38880032e+00, 1.92876632e+00],\n",
       "       [6.31031262e-01, 3.98200454e-01],\n",
       "       [1.92968009e+00, 3.72366527e+00],\n",
       "       [1.15677923e+00, 1.33813818e+00],\n",
       "       [8.34044009e-01, 6.95629410e-01],\n",
       "       [7.95353674e-01, 6.32587467e-01],\n",
       "       [1.23428983e+00, 1.52347138e+00],\n",
       "       [1.38375423e+00, 1.91477576e+00],\n",
       "       [1.75623487e+00, 3.08436093e+00],\n",
       "       [1.84677190e-01, 3.41056643e-02],\n",
       "       [4.23256232e-01, 1.79145838e-01],\n",
       "       [2.60057144e-01, 6.76297183e-02],\n",
       "       [6.26848356e-01, 3.92938862e-01],\n",
       "       [5.75550677e-01, 3.31258582e-01],\n",
       "       [1.85501716e+00, 3.44108867e+00],\n",
       "       [1.02977822e+00, 1.06044319e+00],\n",
       "       [6.04665145e-01, 3.65619938e-01],\n",
       "       [2.28749635e-04, 5.23263954e-08],\n",
       "       [3.72520423e-01, 1.38771465e-01],\n",
       "       [7.81095665e-02, 6.10110437e-03],\n",
       "       [3.30708394e-01, 1.09368042e-01]])"
      ]
     },
     "execution_count": 11,
     "metadata": {},
     "output_type": "execute_result"
    }
   ],
   "source": [
    "X_train_poly =Poly_feat.fit_transform(X_train)\n",
    "X_train_poly"
   ]
  },
  {
   "cell_type": "code",
   "execution_count": 12,
   "id": "42de5568-25c3-47a1-912f-d23ac184e3bb",
   "metadata": {},
   "outputs": [
    {
     "data": {
      "text/html": [
       "<style>#sk-container-id-2 {color: black;background-color: white;}#sk-container-id-2 pre{padding: 0;}#sk-container-id-2 div.sk-toggleable {background-color: white;}#sk-container-id-2 label.sk-toggleable__label {cursor: pointer;display: block;width: 100%;margin-bottom: 0;padding: 0.3em;box-sizing: border-box;text-align: center;}#sk-container-id-2 label.sk-toggleable__label-arrow:before {content: \"▸\";float: left;margin-right: 0.25em;color: #696969;}#sk-container-id-2 label.sk-toggleable__label-arrow:hover:before {color: black;}#sk-container-id-2 div.sk-estimator:hover label.sk-toggleable__label-arrow:before {color: black;}#sk-container-id-2 div.sk-toggleable__content {max-height: 0;max-width: 0;overflow: hidden;text-align: left;background-color: #f0f8ff;}#sk-container-id-2 div.sk-toggleable__content pre {margin: 0.2em;color: black;border-radius: 0.25em;background-color: #f0f8ff;}#sk-container-id-2 input.sk-toggleable__control:checked~div.sk-toggleable__content {max-height: 200px;max-width: 100%;overflow: auto;}#sk-container-id-2 input.sk-toggleable__control:checked~label.sk-toggleable__label-arrow:before {content: \"▾\";}#sk-container-id-2 div.sk-estimator input.sk-toggleable__control:checked~label.sk-toggleable__label {background-color: #d4ebff;}#sk-container-id-2 div.sk-label input.sk-toggleable__control:checked~label.sk-toggleable__label {background-color: #d4ebff;}#sk-container-id-2 input.sk-hidden--visually {border: 0;clip: rect(1px 1px 1px 1px);clip: rect(1px, 1px, 1px, 1px);height: 1px;margin: -1px;overflow: hidden;padding: 0;position: absolute;width: 1px;}#sk-container-id-2 div.sk-estimator {font-family: monospace;background-color: #f0f8ff;border: 1px dotted black;border-radius: 0.25em;box-sizing: border-box;margin-bottom: 0.5em;}#sk-container-id-2 div.sk-estimator:hover {background-color: #d4ebff;}#sk-container-id-2 div.sk-parallel-item::after {content: \"\";width: 100%;border-bottom: 1px solid gray;flex-grow: 1;}#sk-container-id-2 div.sk-label:hover label.sk-toggleable__label {background-color: #d4ebff;}#sk-container-id-2 div.sk-serial::before {content: \"\";position: absolute;border-left: 1px solid gray;box-sizing: border-box;top: 0;bottom: 0;left: 50%;z-index: 0;}#sk-container-id-2 div.sk-serial {display: flex;flex-direction: column;align-items: center;background-color: white;padding-right: 0.2em;padding-left: 0.2em;position: relative;}#sk-container-id-2 div.sk-item {position: relative;z-index: 1;}#sk-container-id-2 div.sk-parallel {display: flex;align-items: stretch;justify-content: center;background-color: white;position: relative;}#sk-container-id-2 div.sk-item::before, #sk-container-id-2 div.sk-parallel-item::before {content: \"\";position: absolute;border-left: 1px solid gray;box-sizing: border-box;top: 0;bottom: 0;left: 50%;z-index: -1;}#sk-container-id-2 div.sk-parallel-item {display: flex;flex-direction: column;z-index: 1;position: relative;background-color: white;}#sk-container-id-2 div.sk-parallel-item:first-child::after {align-self: flex-end;width: 50%;}#sk-container-id-2 div.sk-parallel-item:last-child::after {align-self: flex-start;width: 50%;}#sk-container-id-2 div.sk-parallel-item:only-child::after {width: 0;}#sk-container-id-2 div.sk-dashed-wrapped {border: 1px dashed gray;margin: 0 0.4em 0.5em 0.4em;box-sizing: border-box;padding-bottom: 0.4em;background-color: white;}#sk-container-id-2 div.sk-label label {font-family: monospace;font-weight: bold;display: inline-block;line-height: 1.2em;}#sk-container-id-2 div.sk-label-container {text-align: center;}#sk-container-id-2 div.sk-container {/* jupyter's `normalize.less` sets `[hidden] { display: none; }` but bootstrap.min.css set `[hidden] { display: none !important; }` so we also need the `!important` here to be able to override the default hidden behavior on the sphinx rendered scikit-learn.org. See: https://github.com/scikit-learn/scikit-learn/issues/21755 */display: inline-block !important;position: relative;}#sk-container-id-2 div.sk-text-repr-fallback {display: none;}</style><div id=\"sk-container-id-2\" class=\"sk-top-container\"><div class=\"sk-text-repr-fallback\"><pre>LinearRegression()</pre><b>In a Jupyter environment, please rerun this cell to show the HTML representation or trust the notebook. <br />On GitHub, the HTML representation is unable to render, please try loading this page with nbviewer.org.</b></div><div class=\"sk-container\" hidden><div class=\"sk-item\"><div class=\"sk-estimator sk-toggleable\"><input class=\"sk-toggleable__control sk-hidden--visually\" id=\"sk-estimator-id-2\" type=\"checkbox\" checked><label for=\"sk-estimator-id-2\" class=\"sk-toggleable__label sk-toggleable__label-arrow\">LinearRegression</label><div class=\"sk-toggleable__content\"><pre>LinearRegression()</pre></div></div></div></div></div>"
      ],
      "text/plain": [
       "LinearRegression()"
      ]
     },
     "execution_count": 12,
     "metadata": {},
     "output_type": "execute_result"
    }
   ],
   "source": [
    "from sklearn.linear_model import LinearRegression\n",
    "Poly_model =LinearRegression()\n",
    "Poly_model"
   ]
  },
  {
   "cell_type": "code",
   "execution_count": 13,
   "id": "32dfb4cd-be7c-4517-bec3-39e404dd9e7a",
   "metadata": {},
   "outputs": [
    {
     "data": {
      "text/html": [
       "<style>#sk-container-id-3 {color: black;background-color: white;}#sk-container-id-3 pre{padding: 0;}#sk-container-id-3 div.sk-toggleable {background-color: white;}#sk-container-id-3 label.sk-toggleable__label {cursor: pointer;display: block;width: 100%;margin-bottom: 0;padding: 0.3em;box-sizing: border-box;text-align: center;}#sk-container-id-3 label.sk-toggleable__label-arrow:before {content: \"▸\";float: left;margin-right: 0.25em;color: #696969;}#sk-container-id-3 label.sk-toggleable__label-arrow:hover:before {color: black;}#sk-container-id-3 div.sk-estimator:hover label.sk-toggleable__label-arrow:before {color: black;}#sk-container-id-3 div.sk-toggleable__content {max-height: 0;max-width: 0;overflow: hidden;text-align: left;background-color: #f0f8ff;}#sk-container-id-3 div.sk-toggleable__content pre {margin: 0.2em;color: black;border-radius: 0.25em;background-color: #f0f8ff;}#sk-container-id-3 input.sk-toggleable__control:checked~div.sk-toggleable__content {max-height: 200px;max-width: 100%;overflow: auto;}#sk-container-id-3 input.sk-toggleable__control:checked~label.sk-toggleable__label-arrow:before {content: \"▾\";}#sk-container-id-3 div.sk-estimator input.sk-toggleable__control:checked~label.sk-toggleable__label {background-color: #d4ebff;}#sk-container-id-3 div.sk-label input.sk-toggleable__control:checked~label.sk-toggleable__label {background-color: #d4ebff;}#sk-container-id-3 input.sk-hidden--visually {border: 0;clip: rect(1px 1px 1px 1px);clip: rect(1px, 1px, 1px, 1px);height: 1px;margin: -1px;overflow: hidden;padding: 0;position: absolute;width: 1px;}#sk-container-id-3 div.sk-estimator {font-family: monospace;background-color: #f0f8ff;border: 1px dotted black;border-radius: 0.25em;box-sizing: border-box;margin-bottom: 0.5em;}#sk-container-id-3 div.sk-estimator:hover {background-color: #d4ebff;}#sk-container-id-3 div.sk-parallel-item::after {content: \"\";width: 100%;border-bottom: 1px solid gray;flex-grow: 1;}#sk-container-id-3 div.sk-label:hover label.sk-toggleable__label {background-color: #d4ebff;}#sk-container-id-3 div.sk-serial::before {content: \"\";position: absolute;border-left: 1px solid gray;box-sizing: border-box;top: 0;bottom: 0;left: 50%;z-index: 0;}#sk-container-id-3 div.sk-serial {display: flex;flex-direction: column;align-items: center;background-color: white;padding-right: 0.2em;padding-left: 0.2em;position: relative;}#sk-container-id-3 div.sk-item {position: relative;z-index: 1;}#sk-container-id-3 div.sk-parallel {display: flex;align-items: stretch;justify-content: center;background-color: white;position: relative;}#sk-container-id-3 div.sk-item::before, #sk-container-id-3 div.sk-parallel-item::before {content: \"\";position: absolute;border-left: 1px solid gray;box-sizing: border-box;top: 0;bottom: 0;left: 50%;z-index: -1;}#sk-container-id-3 div.sk-parallel-item {display: flex;flex-direction: column;z-index: 1;position: relative;background-color: white;}#sk-container-id-3 div.sk-parallel-item:first-child::after {align-self: flex-end;width: 50%;}#sk-container-id-3 div.sk-parallel-item:last-child::after {align-self: flex-start;width: 50%;}#sk-container-id-3 div.sk-parallel-item:only-child::after {width: 0;}#sk-container-id-3 div.sk-dashed-wrapped {border: 1px dashed gray;margin: 0 0.4em 0.5em 0.4em;box-sizing: border-box;padding-bottom: 0.4em;background-color: white;}#sk-container-id-3 div.sk-label label {font-family: monospace;font-weight: bold;display: inline-block;line-height: 1.2em;}#sk-container-id-3 div.sk-label-container {text-align: center;}#sk-container-id-3 div.sk-container {/* jupyter's `normalize.less` sets `[hidden] { display: none; }` but bootstrap.min.css set `[hidden] { display: none !important; }` so we also need the `!important` here to be able to override the default hidden behavior on the sphinx rendered scikit-learn.org. See: https://github.com/scikit-learn/scikit-learn/issues/21755 */display: inline-block !important;position: relative;}#sk-container-id-3 div.sk-text-repr-fallback {display: none;}</style><div id=\"sk-container-id-3\" class=\"sk-top-container\"><div class=\"sk-text-repr-fallback\"><pre>LinearRegression()</pre><b>In a Jupyter environment, please rerun this cell to show the HTML representation or trust the notebook. <br />On GitHub, the HTML representation is unable to render, please try loading this page with nbviewer.org.</b></div><div class=\"sk-container\" hidden><div class=\"sk-item\"><div class=\"sk-estimator sk-toggleable\"><input class=\"sk-toggleable__control sk-hidden--visually\" id=\"sk-estimator-id-3\" type=\"checkbox\" checked><label for=\"sk-estimator-id-3\" class=\"sk-toggleable__label sk-toggleable__label-arrow\">LinearRegression</label><div class=\"sk-toggleable__content\"><pre>LinearRegression()</pre></div></div></div></div></div>"
      ],
      "text/plain": [
       "LinearRegression()"
      ]
     },
     "execution_count": 13,
     "metadata": {},
     "output_type": "execute_result"
    }
   ],
   "source": [
    "Poly_model.fit(X_train_poly ,y_train)"
   ]
  },
  {
   "cell_type": "code",
   "execution_count": 15,
   "id": "cb68e0c3-1efb-4774-a3e4-8ac35bb26b42",
   "metadata": {},
   "outputs": [
    {
     "data": {
      "text/plain": [
       "array([[3.1300725 , 1.49167376]])"
      ]
     },
     "execution_count": 15,
     "metadata": {},
     "output_type": "execute_result"
    }
   ],
   "source": [
    "Poly_model.coef_"
   ]
  },
  {
   "cell_type": "code",
   "execution_count": 16,
   "id": "1e313d2c-dfb3-4e93-bb47-06a881fa461b",
   "metadata": {},
   "outputs": [
    {
     "data": {
      "text/plain": [
       "array([4.41192104])"
      ]
     },
     "execution_count": 16,
     "metadata": {},
     "output_type": "execute_result"
    }
   ],
   "source": [
    "Poly_model.intercept_"
   ]
  },
  {
   "cell_type": "code",
   "execution_count": 20,
   "id": "2b880079-503a-42a8-b114-a93abe99d5e6",
   "metadata": {},
   "outputs": [],
   "source": [
    "y_poly_pred =Poly_model.predict(X_train_poly)"
   ]
  },
  {
   "cell_type": "code",
   "execution_count": 22,
   "id": "f2bb1b7c-a59f-4e2d-8ac8-3e8db37e51bb",
   "metadata": {},
   "outputs": [
    {
     "data": {
      "text/plain": [
       "array([[15.73501515],\n",
       "       [10.63704708],\n",
       "       [ 9.4802553 ],\n",
       "       [ 6.53644854],\n",
       "       [ 5.20880878],\n",
       "       [11.1914294 ],\n",
       "       [14.51034336],\n",
       "       [ 4.52840393],\n",
       "       [ 7.31060436],\n",
       "       [16.43684521],\n",
       "       [12.47565191],\n",
       "       [13.25049445],\n",
       "       [ 8.08463124],\n",
       "       [ 5.64717772],\n",
       "       [14.93659516],\n",
       "       [ 6.23096391],\n",
       "       [ 5.38529895],\n",
       "       [13.35588086],\n",
       "       [ 5.39955253],\n",
       "       [ 6.63681469],\n",
       "       [12.10165798],\n",
       "       [ 6.76437259],\n",
       "       [11.1964368 ],\n",
       "       [ 4.73952592],\n",
       "       [ 8.02691584],\n",
       "       [11.41108846],\n",
       "       [ 6.4950233 ],\n",
       "       [11.5030115 ],\n",
       "       [13.79319859],\n",
       "       [ 5.12170957],\n",
       "       [13.0699475 ],\n",
       "       [12.0171802 ],\n",
       "       [14.80924038],\n",
       "       [10.13666306],\n",
       "       [ 5.45914064],\n",
       "       [ 9.97266896],\n",
       "       [14.78756028],\n",
       "       [ 7.9608227 ],\n",
       "       [11.71417223],\n",
       "       [ 4.42993886],\n",
       "       [15.88320344],\n",
       "       [12.47763563],\n",
       "       [ 8.41276985],\n",
       "       [ 9.96692579],\n",
       "       [ 4.53539899],\n",
       "       [ 5.40835819],\n",
       "       [ 8.02829684],\n",
       "       [ 5.08529695],\n",
       "       [ 9.44573691],\n",
       "       [14.59693762],\n",
       "       [11.63605681],\n",
       "       [ 6.9810798 ],\n",
       "       [16.00645338],\n",
       "       [10.0287895 ],\n",
       "       [ 8.06019139],\n",
       "       [ 7.84504982],\n",
       "       [10.54785995],\n",
       "       [11.59939284],\n",
       "       [14.50992376],\n",
       "       [ 5.04084856],\n",
       "       [ 6.00397088],\n",
       "       [ 5.32680023],\n",
       "       [ 6.96013843],\n",
       "       [ 6.70756612],\n",
       "       [15.35124089],\n",
       "       [ 9.21703681],\n",
       "       [ 6.84995245],\n",
       "       [ 4.41263712],\n",
       "       [ 5.78493872],\n",
       "       [ 4.6655105 ],\n",
       "       [ 5.61020373]])"
      ]
     },
     "execution_count": 22,
     "metadata": {},
     "output_type": "execute_result"
    }
   ],
   "source": [
    "y_poly_pred"
   ]
  },
  {
   "cell_type": "code",
   "execution_count": 23,
   "id": "2e5f8a76-943c-4b6a-9a69-ab09ab63f65f",
   "metadata": {},
   "outputs": [
    {
     "data": {
      "image/png": "[encoded data removed]",
      "text/plain": [
       "<Figure size 640x480 with 1 Axes>"
      ]
     },
     "metadata": {},
     "output_type": "display_data"
    }
   ],
   "source": [
    "plt.scatter(X_train ,y_train ,label =\"train data\")\n",
    "plt.show()"
   ]
  },
  {
   "cell_type": "code",
   "execution_count": 25,
   "id": "b29255d7-0748-4801-9acc-affa328b4425",
   "metadata": {},
   "outputs": [
    {
     "data": {
      "image/png": "[encoded data removed]",
      "text/plain": [
       "<Figure size 640x480 with 1 Axes>"
      ]
     },
     "metadata": {},
     "output_type": "display_data"
    }
   ],
   "source": [
    "plt.scatter(X_train ,y_train ,label =\"train data\")\n",
    "plt.show()"
   ]
  },
  {
   "cell_type": "code",
   "execution_count": null,
   "id": "ef6d36ac-b13d-412e-9c8e-7412655d6852",
   "metadata": {},
   "outputs": [],
   "source": []
  },
  {
   "cell_type": "code",
   "execution_count": null,
   "id": "f951f21c-bd25-492d-9715-0997d4e72ae7",
   "metadata": {},
   "outputs": [],
   "source": []
  },
  {
   "cell_type": "code",
   "execution_count": null,
   "id": "a3a63b2f-9e9c-4111-9486-7857f580bd29",
   "metadata": {},
   "outputs": [],
   "source": []
  },
  {
   "cell_type": "code",
   "execution_count": null,
   "id": "2e1eb5d7-55ae-4b9f-9d69-320d4400a8ec",
   "metadata": {},
   "outputs": [],
   "source": []
  },
  {
   "cell_type": "code",
   "execution_count": null,
   "id": "6057318b-5bb6-46cf-a55f-d66dcf54affc",
   "metadata": {},
   "outputs": [],
   "source": []
  },
  {
   "cell_type": "code",
   "execution_count": null,
   "id": "7cb45a7c-26ce-4886-9d8d-8245ad2b1e3d",
   "metadata": {},
   "outputs": [],
   "source": []
  }
 ],
 "metadata": {
  "kernelspec": {
   "display_name": "Python 3 (ipykernel)",
   "language": "python",
   "name": "python3"
  },
  "language_info": {
   "codemirror_mode": {
    "name": "ipython",
    "version": 3
   },
   "file_extension": ".py",
   "mimetype": "text/x-python",
   "name": "python",
   "nbconvert_exporter": "python",
   "pygments_lexer": "ipython3",
   "version": "3.10.8"
  }
 },
 "nbformat": 4,
 "nbformat_minor": 5
}
